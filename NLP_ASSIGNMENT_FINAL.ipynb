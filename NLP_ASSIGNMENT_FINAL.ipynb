{
  "nbformat": 4,
  "nbformat_minor": 0,
  "metadata": {
    "colab": {
      "name": "NLP ASSIGNMENT  FINAL",
      "provenance": [],
      "collapsed_sections": []
    },
    "kernelspec": {
      "name": "python3",
      "display_name": "Python 3"
    },
    "accelerator": "GPU"
  },
  "cells": [
    {
      "cell_type": "code",
      "metadata": {
        "id": "AIDnzdu-7Azu",
        "colab_type": "code",
        "outputId": "92c2e7e2-bb15-45bd-877a-f6fd09099469",
        "colab": {
          "base_uri": "https://localhost:8080/",
          "height": 79
        }
      },
      "source": [
        "import pandas as pd\n",
        "from sklearn.model_selection import train_test_split\n",
        "import numpy as np\n",
        "import matplotlib.pyplot as plt\n",
        "import string\n",
        "import re\n",
        "import nltk\n",
        "from nltk.stem import PorterStemmer\n",
        "from sklearn.feature_extraction.text import CountVectorizer , TfidfVectorizer\n",
        "from keras.utils import to_categorical\n",
        "import keras\n",
        "from keras.datasets import mnist\n",
        "from keras.models import Sequential\n",
        "from keras.layers import Dense, Dropout, Flatten\n",
        "from keras.layers import Conv1D, MaxPooling1D\n",
        "from keras import backend as K\n",
        "import tensorflow as tf\n",
        "tf.logging.set_verbosity(tf.logging.ERROR)\n",
        "from sklearn.metrics import classification_report\n",
        "from keras.models import load_model"
      ],
      "execution_count": 1,
      "outputs": [
        {
          "output_type": "stream",
          "text": [
            "Using TensorFlow backend.\n"
          ],
          "name": "stderr"
        },
        {
          "output_type": "display_data",
          "data": {
            "text/html": [
              "<p style=\"color: red;\">\n",
              "The default version of TensorFlow in Colab will soon switch to TensorFlow 2.x.<br>\n",
              "We recommend you <a href=\"https://www.tensorflow.org/guide/migrate\" target=\"_blank\">upgrade</a> now \n",
              "or ensure your notebook will continue to use TensorFlow 1.x via the <code>%tensorflow_version 1.x</code> magic:\n",
              "<a href=\"https://colab.research.google.com/notebooks/tensorflow_version.ipynb\" target=\"_blank\">more info</a>.</p>\n"
            ],
            "text/plain": [
              "<IPython.core.display.HTML object>"
            ]
          },
          "metadata": {
            "tags": []
          }
        }
      ]
    },
    {
      "cell_type": "code",
      "metadata": {
        "id": "4qB8BoTYa15W",
        "colab_type": "code",
        "outputId": "c1e4d25d-8e63-4876-cbda-8a5e1b6ed449",
        "colab": {
          "base_uri": "https://localhost:8080/",
          "height": 196
        }
      },
      "source": [
        "# from google.colab import drive\n",
        "# drive.mount('/content/drive')\n",
        "dataset =  pd.read_csv('https://raw.githubusercontent.com/cacoderquan/Sentiment-Analysis-on-the-Rotten-Tomatoes-movie-review-dataset/master/train.tsv', sep='\\t')\n",
        "dataset = dataset.dropna()\n",
        "dataset.head()"
      ],
      "execution_count": 2,
      "outputs": [
        {
          "output_type": "execute_result",
          "data": {
            "text/html": [
              "<div>\n",
              "<style scoped>\n",
              "    .dataframe tbody tr th:only-of-type {\n",
              "        vertical-align: middle;\n",
              "    }\n",
              "\n",
              "    .dataframe tbody tr th {\n",
              "        vertical-align: top;\n",
              "    }\n",
              "\n",
              "    .dataframe thead th {\n",
              "        text-align: right;\n",
              "    }\n",
              "</style>\n",
              "<table border=\"1\" class=\"dataframe\">\n",
              "  <thead>\n",
              "    <tr style=\"text-align: right;\">\n",
              "      <th></th>\n",
              "      <th>PhraseId</th>\n",
              "      <th>SentenceId</th>\n",
              "      <th>Phrase</th>\n",
              "      <th>Sentiment</th>\n",
              "    </tr>\n",
              "  </thead>\n",
              "  <tbody>\n",
              "    <tr>\n",
              "      <th>0</th>\n",
              "      <td>1</td>\n",
              "      <td>1</td>\n",
              "      <td>A series of escapades demonstrating the adage ...</td>\n",
              "      <td>1</td>\n",
              "    </tr>\n",
              "    <tr>\n",
              "      <th>1</th>\n",
              "      <td>2</td>\n",
              "      <td>1</td>\n",
              "      <td>A series of escapades demonstrating the adage ...</td>\n",
              "      <td>2</td>\n",
              "    </tr>\n",
              "    <tr>\n",
              "      <th>2</th>\n",
              "      <td>3</td>\n",
              "      <td>1</td>\n",
              "      <td>A series</td>\n",
              "      <td>2</td>\n",
              "    </tr>\n",
              "    <tr>\n",
              "      <th>3</th>\n",
              "      <td>4</td>\n",
              "      <td>1</td>\n",
              "      <td>A</td>\n",
              "      <td>2</td>\n",
              "    </tr>\n",
              "    <tr>\n",
              "      <th>4</th>\n",
              "      <td>5</td>\n",
              "      <td>1</td>\n",
              "      <td>series</td>\n",
              "      <td>2</td>\n",
              "    </tr>\n",
              "  </tbody>\n",
              "</table>\n",
              "</div>"
            ],
            "text/plain": [
              "   PhraseId  ...  Sentiment\n",
              "0         1  ...          1\n",
              "1         2  ...          2\n",
              "2         3  ...          2\n",
              "3         4  ...          2\n",
              "4         5  ...          2\n",
              "\n",
              "[5 rows x 4 columns]"
            ]
          },
          "metadata": {
            "tags": []
          },
          "execution_count": 2
        }
      ]
    },
    {
      "cell_type": "code",
      "metadata": {
        "id": "4P6Kbwh5a9Bp",
        "colab_type": "code",
        "outputId": "60ca1675-fc5b-4ee9-9362-f2724a2c8883",
        "colab": {
          "base_uri": "https://localhost:8080/",
          "height": 252
        }
      },
      "source": [
        "temp = dataset.Sentiment.value_counts()\n",
        "labels = [3,4,2,5,1]\n",
        "explode = (0,0.1, 0, 0, 0)\n",
        "plt.pie(temp,labels=labels,autopct='%1.1f%%',shadow=True, startangle=45,explode=explode)\n",
        "plt.axis('equal')\n",
        "plt.show()"
      ],
      "execution_count": 3,
      "outputs": [
        {
          "output_type": "display_data",
          "data": {
            "image/png": "[encoded data removed]",
            "text/plain": [
              "<Figure size 432x288 with 1 Axes>"
            ]
          },
          "metadata": {
            "tags": []
          }
        }
      ]
    },
    {
      "cell_type": "code",
      "metadata": {
        "id": "8L17l6g-oDw1",
        "colab_type": "code",
        "colab": {}
      },
      "source": [
        "remove_fPunct = True\n",
        "fTokenizaton = True\n",
        "fStopwords = True\n",
        "fStemming = False\n",
        "fLemmatization = True"
      ],
      "execution_count": 0,
      "outputs": []
    },
    {
      "cell_type": "code",
      "metadata": {
        "id": "nvuaQthqogUZ",
        "colab_type": "code",
        "colab": {}
      },
      "source": [
        "def remove_punctuation(text):\n",
        "  txt_nonpunct = \"\".join([a for a in text if a not in string.punctuation])\n",
        "  return txt_nonpunct\n",
        "\n",
        "if remove_fPunct:\n",
        "  dataset['Phrase'] = dataset['Phrase'].apply(lambda x: remove_punctuation(x)) "
      ],
      "execution_count": 0,
      "outputs": []
    },
    {
      "cell_type": "code",
      "metadata": {
        "id": "NQtXp39kozbZ",
        "colab_type": "code",
        "colab": {}
      },
      "source": [
        "def tokenize(text):\n",
        "  tokens = re.split('\\W+', text)\n",
        "  return tokens \n",
        "\n",
        "if fTokenizaton:\n",
        "  dataset['Phrase'] = dataset['Phrase'].apply(lambda x: tokenize(x.lower()))"
      ],
      "execution_count": 0,
      "outputs": []
    },
    {
      "cell_type": "code",
      "metadata": {
        "id": "z1WPI1OWo61w",
        "colab_type": "code",
        "outputId": "dc4213e1-f727-4446-b0d0-f1554ca8fe3f",
        "colab": {
          "base_uri": "https://localhost:8080/",
          "height": 50
        }
      },
      "source": [
        "nltk.download('stopwords')\n",
        "stopwords = nltk.corpus.stopwords.words('english')\n",
        "\n",
        "def remove_stopwords(txt_tokenized):\n",
        "  txt_clean = [word for word in txt_tokenized if word not in stopwords]\n",
        "  return txt_clean\n",
        "\n",
        "if fStopwords:\n",
        "  dataset['Phrase'] = dataset['Phrase'].apply(lambda x: remove_stopwords(x))"
      ],
      "execution_count": 7,
      "outputs": [
        {
          "output_type": "stream",
          "text": [
            "[nltk_data] Downloading package stopwords to /root/nltk_data...\n",
            "[nltk_data]   Package stopwords is already up-to-date!\n"
          ],
          "name": "stdout"
        }
      ]
    },
    {
      "cell_type": "code",
      "metadata": {
        "id": "f_lhjTD7o9z7",
        "colab_type": "code",
        "colab": {}
      },
      "source": [
        "ps = PorterStemmer()\n",
        "\n",
        "def stemming(tokenized_text):\n",
        "  text = [ps.stem(word) for word in tokenized_text]\n",
        "  return text\n",
        "\n",
        "if fStemming:\n",
        "  dataset['Phrase'] = dataset['Phrase'].apply(lambda x: stemming(x))"
      ],
      "execution_count": 0,
      "outputs": []
    },
    {
      "cell_type": "code",
      "metadata": {
        "id": "odRNgB4TpFCA",
        "colab_type": "code",
        "outputId": "2e798527-4716-4c86-8f5e-206c41954d0c",
        "colab": {
          "base_uri": "https://localhost:8080/",
          "height": 50
        }
      },
      "source": [
        "wn = nltk.WordNetLemmatizer()\n",
        "ps = nltk.PorterStemmer()\n",
        "\n",
        "def lemmatization(token_txt):\n",
        "  text = [wn.lemmatize(word) for word in token_txt]\n",
        "  return text\n",
        "\n",
        "nltk.download('wordnet')\n",
        "if fLemmatization:\n",
        "  dataset['Phrase'] = dataset['Phrase'].apply(lambda x: lemmatization(x))"
      ],
      "execution_count": 9,
      "outputs": [
        {
          "output_type": "stream",
          "text": [
            "[nltk_data] Downloading package wordnet to /root/nltk_data...\n",
            "[nltk_data]   Package wordnet is already up-to-date!\n"
          ],
          "name": "stdout"
        }
      ]
    },
    {
      "cell_type": "code",
      "metadata": {
        "id": "Zm5a2yPmpOvw",
        "colab_type": "code",
        "colab": {}
      },
      "source": [
        "X_train, X_test, Y_train, Y_test = train_test_split(dataset['Phrase'], dataset['Sentiment'], test_size=0.3, random_state=2003)\n",
        "documents = []\n",
        "X_train = np.array(X_train.values.tolist())\n",
        "Y_train = np.array(Y_train.values.tolist())\n",
        "for i in range(len(X_train)):\n",
        "  documents.append([list(X_train[i]), Y_train[i]]) \n",
        "\n",
        "X_test = np.array(X_test.values.tolist())\n",
        "Y_test = np.array(Y_test.values.tolist())\n",
        "for i in range(len(X_test)):\n",
        "  documents.append([list(X_test[i]), Y_test[i]]) \n",
        "\n",
        "dataset = pd.DataFrame(documents, columns=['text', 'sentiment']) \n",
        "dataset['join'] = dataset.text.apply(' '.join)\n",
        "\n",
        "X_train, X_test, Y_train, Y_test = train_test_split(dataset['join'],  dataset['sentiment'], test_size=0.3, random_state=2003)"
      ],
      "execution_count": 0,
      "outputs": []
    },
    {
      "cell_type": "code",
      "metadata": {
        "id": "97hFqdu7pYU8",
        "colab_type": "code",
        "colab": {}
      },
      "source": [
        "vectorizer = TfidfVectorizer(max_features = 2500)#, # ngram_range=(1, 1)) \n",
        "X = vectorizer.fit_transform(dataset[\"join\"]) \n",
        "Y = dataset['sentiment'] \n",
        " \n",
        "X_train = vectorizer.transform(X_train).toarray()\n",
        "Y_train = Y_train \n",
        "X_test = vectorizer.transform(X_test).toarray()\n",
        "Y_test = Y_test\n",
        "num_classes = 5"
      ],
      "execution_count": 0,
      "outputs": []
    },
    {
      "cell_type": "code",
      "metadata": {
        "id": "Hc2rSR5SqNdl",
        "colab_type": "code",
        "colab": {}
      },
      "source": [
        "Y_train = keras.utils.to_categorical(Y_train, num_classes)\n",
        "Y_test = keras.utils.to_categorical(Y_test, num_classes)"
      ],
      "execution_count": 0,
      "outputs": []
    },
    {
      "cell_type": "code",
      "metadata": {
        "id": "vuUYjLPtsRCe",
        "colab_type": "code",
        "colab": {}
      },
      "source": [
        "def recall_m(y_true, y_pred):\n",
        "  true_positives= K.sum(K.round(K.clip(y_true * y_pred, 0, 1)))\n",
        "  possible_positives= K.sum(K.round(K.clip(y_true, 0, 1)))\n",
        "  recall= true_positives / (possible_positives + K.epsilon())\n",
        "  return recall\n",
        "\n",
        "def precision_m(y_true, y_pred):\n",
        "  true_positives= K.sum(K.round(K.clip(y_true * y_pred, 0, 1)))\n",
        "  predicted_positives= K.sum(K.round(K.clip(y_true, 0, 1)))\n",
        "  precision= true_positives / (predicted_positives + K.epsilon())\n",
        "  return precision\n",
        "\n",
        "def f1_m(y_true, y_pred):\n",
        "  precision= precision_m(y_true, y_pred)\n",
        "  recall= recall_m(y_true, y_pred)\n",
        "  return 2*((precision*recall)/(precision+recall+K.epsilon()))"
      ],
      "execution_count": 0,
      "outputs": []
    },
    {
      "cell_type": "code",
      "metadata": {
        "id": "bn3eusbzqVwj",
        "colab_type": "code",
        "colab": {}
      },
      "source": [
        "model = Sequential()\n",
        "model.add(Conv1D(filters=64, kernel_size=3, activation='relu', input_shape=(2500,1)))\n",
        "model.add(Conv1D(filters=64, kernel_size=3, activation='relu'))\n",
        "model.add(Conv1D(filters=64, kernel_size=3, activation='relu'))\n",
        "model.add(MaxPooling1D(pool_size=1))\n",
        "model.add(Dropout(0.5))\n",
        "model.add(Flatten())\n",
        "model.add(Dense(64, activation='relu'))\n",
        "model.add(Dense(num_classes, activation='softmax'))\n",
        "#model.compile(loss=keras.losses.categorical_crossentropy,optimizer=keras.optimizers.Adadelta(),metrics=['accuracy'])\n",
        "model.compile(loss='categorical_crossentropy', optimizer='adam', metrics=['acc', f1_m, precision_m, recall_m])"
      ],
      "execution_count": 0,
      "outputs": []
    },
    {
      "cell_type": "code",
      "metadata": {
        "id": "_CJ_OAMEw4zZ",
        "colab_type": "code",
        "colab": {
          "base_uri": "https://localhost:8080/",
          "height": 418
        },
        "outputId": "6f0cfde1-f1ce-4443-f53f-c300906791c3"
      },
      "source": [
        "model.summary()"
      ],
      "execution_count": 15,
      "outputs": [
        {
          "output_type": "stream",
          "text": [
            "Model: \"sequential_1\"\n",
            "_________________________________________________________________\n",
            "Layer (type)                 Output Shape              Param #   \n",
            "=================================================================\n",
            "conv1d_1 (Conv1D)            (None, 2498, 64)          256       \n",
            "_________________________________________________________________\n",
            "conv1d_2 (Conv1D)            (None, 2496, 64)          12352     \n",
            "_________________________________________________________________\n",
            "conv1d_3 (Conv1D)            (None, 2494, 64)          12352     \n",
            "_________________________________________________________________\n",
            "max_pooling1d_1 (MaxPooling1 (None, 2494, 64)          0         \n",
            "_________________________________________________________________\n",
            "dropout_1 (Dropout)          (None, 2494, 64)          0         \n",
            "_________________________________________________________________\n",
            "flatten_1 (Flatten)          (None, 159616)            0         \n",
            "_________________________________________________________________\n",
            "dense_1 (Dense)              (None, 64)                10215488  \n",
            "_________________________________________________________________\n",
            "dense_2 (Dense)              (None, 5)                 325       \n",
            "=================================================================\n",
            "Total params: 10,240,773\n",
            "Trainable params: 10,240,773\n",
            "Non-trainable params: 0\n",
            "_________________________________________________________________\n"
          ],
          "name": "stdout"
        }
      ]
    },
    {
      "cell_type": "code",
      "metadata": {
        "id": "1sIOBez7qX7m",
        "colab_type": "code",
        "colab": {}
      },
      "source": [
        "X_train = X_train.reshape(X_train.shape[0], X_train.shape[1], 1)\n",
        "X_test = X_test.reshape(X_test.shape[0], X_test.shape[1], 1)"
      ],
      "execution_count": 0,
      "outputs": []
    },
    {
      "cell_type": "code",
      "metadata": {
        "id": "38lSUThLqdP1",
        "colab_type": "code",
        "outputId": "dea42abc-0393-4f94-c98e-878a84c35e10",
        "colab": {
          "base_uri": "https://localhost:8080/",
          "height": 873
        }
      },
      "source": [
        "batch_size = 128\n",
        "epochs = 25\n",
        "history = model.fit(X_train, Y_train,batch_size=batch_size,epochs=epochs,verbose=1)"
      ],
      "execution_count": 17,
      "outputs": [
        {
          "output_type": "stream",
          "text": [
            "Epoch 1/25\n",
            "109242/109242 [==============================] - 54s 490us/step - loss: 1.0681 - acc: 0.5769 - f1_m: 0.4118 - precision_m: 0.4118 - recall_m: 0.4118\n",
            "Epoch 2/25\n",
            "109242/109242 [==============================] - 50s 456us/step - loss: 0.9694 - acc: 0.6187 - f1_m: 0.4935 - precision_m: 0.4935 - recall_m: 0.4935\n",
            "Epoch 3/25\n",
            "109242/109242 [==============================] - 50s 458us/step - loss: 0.9276 - acc: 0.6358 - f1_m: 0.5299 - precision_m: 0.5299 - recall_m: 0.5299\n",
            "Epoch 4/25\n",
            "109242/109242 [==============================] - 50s 455us/step - loss: 0.8946 - acc: 0.6479 - f1_m: 0.5564 - precision_m: 0.5564 - recall_m: 0.5564\n",
            "Epoch 5/25\n",
            "109242/109242 [==============================] - 50s 454us/step - loss: 0.8616 - acc: 0.6614 - f1_m: 0.5815 - precision_m: 0.5815 - recall_m: 0.5815\n",
            "Epoch 6/25\n",
            "109242/109242 [==============================] - 50s 456us/step - loss: 0.8379 - acc: 0.6710 - f1_m: 0.5989 - precision_m: 0.5989 - recall_m: 0.5989\n",
            "Epoch 7/25\n",
            "109242/109242 [==============================] - 50s 455us/step - loss: 0.8153 - acc: 0.6786 - f1_m: 0.6133 - precision_m: 0.6133 - recall_m: 0.6133\n",
            "Epoch 8/25\n",
            "109242/109242 [==============================] - 49s 449us/step - loss: 0.7954 - acc: 0.6866 - f1_m: 0.6273 - precision_m: 0.6273 - recall_m: 0.6273\n",
            "Epoch 9/25\n",
            "109242/109242 [==============================] - 49s 447us/step - loss: 0.7793 - acc: 0.6930 - f1_m: 0.6377 - precision_m: 0.6377 - recall_m: 0.6377\n",
            "Epoch 10/25\n",
            "109242/109242 [==============================] - 49s 447us/step - loss: 0.7648 - acc: 0.6986 - f1_m: 0.6471 - precision_m: 0.6471 - recall_m: 0.6471\n",
            "Epoch 11/25\n",
            "109242/109242 [==============================] - 49s 447us/step - loss: 0.7543 - acc: 0.7017 - f1_m: 0.6527 - precision_m: 0.6527 - recall_m: 0.6527\n",
            "Epoch 12/25\n",
            "109242/109242 [==============================] - 49s 447us/step - loss: 0.7424 - acc: 0.7057 - f1_m: 0.6588 - precision_m: 0.6588 - recall_m: 0.6588\n",
            "Epoch 13/25\n",
            "109242/109242 [==============================] - 49s 445us/step - loss: 0.7318 - acc: 0.7105 - f1_m: 0.6656 - precision_m: 0.6656 - recall_m: 0.6656\n",
            "Epoch 14/25\n",
            "109242/109242 [==============================] - 49s 444us/step - loss: 0.7218 - acc: 0.7144 - f1_m: 0.6717 - precision_m: 0.6717 - recall_m: 0.6717\n",
            "Epoch 15/25\n",
            "109242/109242 [==============================] - 49s 444us/step - loss: 0.7149 - acc: 0.7154 - f1_m: 0.6746 - precision_m: 0.6746 - recall_m: 0.6746\n",
            "Epoch 16/25\n",
            "109242/109242 [==============================] - 49s 445us/step - loss: 0.7067 - acc: 0.7196 - f1_m: 0.6797 - precision_m: 0.6797 - recall_m: 0.6797\n",
            "Epoch 17/25\n",
            "109242/109242 [==============================] - 49s 445us/step - loss: 0.6991 - acc: 0.7212 - f1_m: 0.6836 - precision_m: 0.6836 - recall_m: 0.6836\n",
            "Epoch 18/25\n",
            "109242/109242 [==============================] - 49s 446us/step - loss: 0.6934 - acc: 0.7240 - f1_m: 0.6872 - precision_m: 0.6872 - recall_m: 0.6872\n",
            "Epoch 19/25\n",
            "109242/109242 [==============================] - 49s 447us/step - loss: 0.6895 - acc: 0.7253 - f1_m: 0.6883 - precision_m: 0.6883 - recall_m: 0.6883\n",
            "Epoch 20/25\n",
            "109242/109242 [==============================] - 49s 447us/step - loss: 0.6823 - acc: 0.7278 - f1_m: 0.6922 - precision_m: 0.6922 - recall_m: 0.6922\n",
            "Epoch 21/25\n",
            "109242/109242 [==============================] - 49s 446us/step - loss: 0.6763 - acc: 0.7312 - f1_m: 0.6966 - precision_m: 0.6966 - recall_m: 0.6966\n",
            "Epoch 22/25\n",
            "109242/109242 [==============================] - 49s 445us/step - loss: 0.6736 - acc: 0.7320 - f1_m: 0.6978 - precision_m: 0.6978 - recall_m: 0.6978\n",
            "Epoch 23/25\n",
            "109242/109242 [==============================] - 49s 446us/step - loss: 0.6691 - acc: 0.7334 - f1_m: 0.6998 - precision_m: 0.6998 - recall_m: 0.6998\n",
            "Epoch 24/25\n",
            "109242/109242 [==============================] - 49s 446us/step - loss: 0.6637 - acc: 0.7344 - f1_m: 0.7020 - precision_m: 0.7020 - recall_m: 0.7020\n",
            "Epoch 25/25\n",
            "109242/109242 [==============================] - 49s 446us/step - loss: 0.6613 - acc: 0.7363 - f1_m: 0.7040 - precision_m: 0.7040 - recall_m: 0.7040\n"
          ],
          "name": "stdout"
        }
      ]
    },
    {
      "cell_type": "code",
      "metadata": {
        "id": "bsvLW-aGq6kP",
        "colab_type": "code",
        "colab": {
          "base_uri": "https://localhost:8080/",
          "height": 67
        },
        "outputId": "f3db3880-8c24-4b88-9b3a-49ba02c2fbe1"
      },
      "source": [
        "score = model.evaluate(X_test, Y_test, verbose=1)\n",
        "print('Test loss:', score[0])\n",
        "print('Test accuracy:', score[1])"
      ],
      "execution_count": 18,
      "outputs": [
        {
          "output_type": "stream",
          "text": [
            "46818/46818 [==============================] - 8s 178us/step\n",
            "Test loss: 1.0669715833104279\n",
            "Test accuracy: 0.6296296296296297\n"
          ],
          "name": "stdout"
        }
      ]
    },
    {
      "cell_type": "code",
      "metadata": {
        "id": "RbNKzOR1laR_",
        "colab_type": "code",
        "colab": {
          "base_uri": "https://localhost:8080/",
          "height": 234
        },
        "outputId": "5d9fa7fc-48a6-4190-dab0-b4cad5c56011"
      },
      "source": [
        "y_pred = model.predict(X_test, batch_size=64, verbose=1)\n",
        "y_pred_bool = np.argmax(y_pred, axis=1)\n",
        "\n",
        "print(classification_report(np.argmax(Y_test, axis=1), y_pred_bool))"
      ],
      "execution_count": 19,
      "outputs": [
        {
          "output_type": "stream",
          "text": [
            "46818/46818 [==============================] - 7s 152us/step\n",
            "              precision    recall  f1-score   support\n",
            "\n",
            "           0       0.45      0.36      0.40      2133\n",
            "           1       0.53      0.39      0.45      8100\n",
            "           2       0.69      0.84      0.75     23808\n",
            "           3       0.57      0.45      0.50      9988\n",
            "           4       0.50      0.40      0.44      2789\n",
            "\n",
            "    accuracy                           0.63     46818\n",
            "   macro avg       0.55      0.49      0.51     46818\n",
            "weighted avg       0.61      0.63      0.61     46818\n",
            "\n"
          ],
          "name": "stdout"
        }
      ]
    },
    {
      "cell_type": "code",
      "metadata": {
        "id": "9ujM84GlrrJL",
        "colab_type": "code",
        "colab": {
          "base_uri": "https://localhost:8080/",
          "height": 150
        },
        "outputId": "53b2c3dd-71ee-43b2-fad6-239c7e61a4c1"
      },
      "source": [
        "def print_metrics(accuracy, f1_score, precision, recall):\n",
        "  print('MY CNN MODEL PERFORMANCE')\n",
        "  print('Accuracy:', np.round(accuracy, 4))\n",
        "  print('Precision:', np.round(precision, 4))\n",
        "  print('Recall:', np.round(recall, 4))\n",
        "  print('F1 Score:', np.round(f1_score, 4))\n",
        "  print('\\n')\n",
        "loss, accuracy, f1_score, precision, recall=model.evaluate(X_test, Y_test)\n",
        "print_metrics(accuracy, f1_score, precision, recall)\n"
      ],
      "execution_count": 20,
      "outputs": [
        {
          "output_type": "stream",
          "text": [
            "46818/46818 [==============================] - 8s 174us/step\n",
            "MY CNN MODEL PERFORMANCE\n",
            "Accuracy: 0.6296\n",
            "Precision: 0.5949\n",
            "Recall: 0.5949\n",
            "F1 Score: 0.5949\n",
            "\n",
            "\n"
          ],
          "name": "stdout"
        }
      ]
    },
    {
      "cell_type": "code",
      "metadata": {
        "id": "MNBhGufV2xLr",
        "colab_type": "code",
        "colab": {}
      },
      "source": [
        "model.save('1108021_1dconv_reg.h5')"
      ],
      "execution_count": 0,
      "outputs": []
    }
  ]
}